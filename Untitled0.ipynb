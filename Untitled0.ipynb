{
  "nbformat": 4,
  "nbformat_minor": 0,
  "metadata": {
    "colab": {
      "provenance": [],
      "authorship_tag": "ABX9TyP1vsukMlBmCqU3ANQQYbZH",
      "include_colab_link": true
    },
    "kernelspec": {
      "name": "python3",
      "display_name": "Python 3"
    },
    "language_info": {
      "name": "python"
    }
  },
  "cells": [
    {
      "cell_type": "markdown",
      "metadata": {
        "id": "view-in-github",
        "colab_type": "text"
      },
      "source": [
        "<a href=\"https://colab.research.google.com/github/haseebshah1403/data-science-journey/blob/main/Untitled0.ipynb\" target=\"_parent\"><img src=\"https://colab.research.google.com/assets/colab-badge.svg\" alt=\"Open In Colab\"/></a>"
      ]
    },
    {
      "cell_type": "code",
      "execution_count": null,
      "metadata": {
        "id": "NCPW4BpuvS2P"
      },
      "outputs": [],
      "source": [
        "\n",
        "#Auther- Haseeb Shah\n",
        "# Cell 1: Import libraries\n",
        "import yfinance as yf\n",
        "import numpy as np\n",
        "import pandas as pd\n",
        "import matplotlib.pyplot as plt\n",
        "from sklearn.preprocessing import MinMaxScaler\n",
        "from sklearn.metrics import mean_squared_error\n",
        "from tensorflow.keras.models import Sequential\n",
        "from tensorflow.keras.layers import LSTM, Dense\n",
        "\n",
        "# Cell 2: Download stock data (Tesla: TSLA)\n",
        "df = yf.download('TSLA', start='2015-01-01', end='2024-12-31')\n",
        "df = df[['Close']]\n",
        "\n",
        "# Cell 3: Visualize stock closing prices\n",
        "plt.figure(figsize=(12,4))\n",
        "plt.plot(df.index, df['Close'], label='TSLA Close Price')\n",
        "plt.title('Tesla Stock Closing Prices')\n",
        "plt.xlabel('Date')\n",
        "plt.ylabel('Price (USD)')\n",
        "plt.legend()\n",
        "plt.grid(True)\n",
        "plt.show()\n",
        "\n",
        "# Cell 4: Normalize the data\n",
        "scaler = MinMaxScaler(feature_range=(0,1))\n",
        "scaled_data = scaler.fit_transform(df.values)\n",
        "\n",
        "# Cell 5: Create training and testing datasets\n",
        "train_len = int(len(scaled_data) * 0.8)\n",
        "train_data = scaled_data[:train_len]\n",
        "test_data = scaled_data[train_len - 60:]  # overlap for sequences\n",
        "\n",
        "def create_dataset(dataset, time_step=60):\n",
        "    X, y = [], []\n",
        "    for i in range(time_step, len(dataset)):\n",
        "        X.append(dataset[i-time_step:i, 0])\n",
        "        y.append(dataset[i, 0])\n",
        "    return np.array(X), np.array(y)\n",
        "\n",
        "X_train, y_train = create_dataset(train_data)\n",
        "X_test, y_test = create_dataset(test_data)\n",
        "\n",
        "X_train = X_train.reshape((X_train.shape[0], X_train.shape[1], 1))\n",
        "X_test = X_test.reshape((X_test.shape[0], X_test.shape[1], 1))\n",
        "\n",
        "# Cell 6: Build LSTM model\n",
        "model = Sequential()\n",
        "model.add(LSTM(units=50, return_sequences=True, input_shape=(X_train.shape[1], 1)))\n",
        "model.add(LSTM(units=50))\n",
        "model.add(Dense(1))\n",
        "model.compile(optimizer='adam', loss='mean_squared_error')\n",
        "\n",
        "# Cell 7: Train the model\n",
        "model.fit(X_train, y_train, epochs=10, batch_size=32, verbose=1)\n",
        "\n",
        "# Cell 8: Make predictions\n",
        "predictions = model.predict(X_test)\n",
        "predictions = scaler.inverse_transform(predictions)\n",
        "real_prices = scaler.inverse_transform(y_test.reshape(-1, 1))\n",
        "\n",
        "# Cell 9: Plot actual vs predicted prices\n",
        "plt.figure(figsize=(12,6))\n",
        "plt.plot(real_prices, color='blue', label='Actual TSLA Price')\n",
        "plt.plot(predictions, color='red', label='Predicted TSLA Price')\n",
        "plt.title('Tesla Stock Price Prediction')\n",
        "plt.xlabel('Time')\n",
        "plt.ylabel('Price (USD)')\n",
        "plt.legend()\n",
        "plt.grid(True)\n",
        "plt.show()\n",
        "\n",
        "# Cell 10: Model evaluation\n",
        "rmse = np.sqrt(mean_squared_error(real_prices, predictions))\n",
        "print(f'Root Mean Squared Error (RMSE): {rmse:.4f}')\n",
        "\n",
        "# Cell 11: Conclusion\n",
        "print(\"\"\"\n",
        "Conclusion:\n",
        "This LSTM model predicts Tesla stock prices based on historical closing prices.\n",
        "To improve accuracy, consider more epochs, additional input features, or tuning model layers.\n",
        "\"\"\")\n"
      ]
    }
  ]
}